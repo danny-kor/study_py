{
 "cells": [
  {
   "cell_type": "code",
   "execution_count": 1,
   "id": "8403b604",
   "metadata": {},
   "outputs": [
    {
     "name": "stdout",
     "output_type": "stream",
     "text": [
      "34\n"
     ]
    }
   ],
   "source": [
    "a = \"3\"\n",
    "b = \"4\"\n",
    "print(a+b)"
   ]
  },
  {
   "cell_type": "code",
   "execution_count": 2,
   "id": "99a1a26a",
   "metadata": {},
   "outputs": [
    {
     "name": "stdout",
     "output_type": "stream",
     "text": [
      "HiHiHi\n"
     ]
    }
   ],
   "source": [
    "print(\"Hi\"*3)"
   ]
  },
  {
   "cell_type": "code",
   "execution_count": 3,
   "id": "bdc093ce",
   "metadata": {},
   "outputs": [
    {
     "name": "stdout",
     "output_type": "stream",
     "text": [
      "--------------------------------------------------------------------------------\n"
     ]
    }
   ],
   "source": [
    "print('-'*80)"
   ]
  },
  {
   "cell_type": "code",
   "execution_count": 11,
   "id": "29a5df15",
   "metadata": {},
   "outputs": [
    {
     "name": "stdout",
     "output_type": "stream",
     "text": [
      "python java python java python java \n"
     ]
    }
   ],
   "source": [
    "t1 = 'python'\n",
    "t2 = 'java'\n",
    "print((t1+' '+t2+' ')*3)"
   ]
  },
  {
   "cell_type": "code",
   "execution_count": 17,
   "id": "6fcde2e4",
   "metadata": {},
   "outputs": [
    {
     "name": "stdout",
     "output_type": "stream",
     "text": [
      "이름 : 김민수 나이 : 10\n",
      "이름 : 이철희 나이 : 13\n"
     ]
    }
   ],
   "source": [
    "name1 = '김민수'\n",
    "age1 = 10\n",
    "name2 = '이철희'\n",
    "age2 = 13\n",
    "\n",
    "print('이름 : {} 나이 : {}'.format(name1, age1)+'\\n'+'이름 : {} 나이 : {}'.format(name2, age2))"
   ]
  },
  {
   "cell_type": "code",
   "execution_count": 19,
   "id": "04d49ea0",
   "metadata": {},
   "outputs": [
    {
     "name": "stdout",
     "output_type": "stream",
     "text": [
      "이름 : 김민수 나이 : 10\n",
      "이름 : 이철희 나이 : 13\n"
     ]
    }
   ],
   "source": [
    "print('이름 : %s 나이 : %d'%(name1, age1)+'\\n'+'이름 : %s 나이 : %d'%(name2, age2))"
   ]
  },
  {
   "cell_type": "code",
   "execution_count": 20,
   "id": "58fd185a",
   "metadata": {},
   "outputs": [
    {
     "name": "stdout",
     "output_type": "stream",
     "text": [
      "이름 : 김민수 나이 : 10\n"
     ]
    }
   ],
   "source": [
    "print(f'이름 : {name1} 나이 : {age1}')\n",
    "# python3.6부터 지원하는 f-string formatting"
   ]
  },
  {
   "cell_type": "code",
   "execution_count": 26,
   "id": "18c47d1c",
   "metadata": {},
   "outputs": [
    {
     "name": "stdout",
     "output_type": "stream",
     "text": [
      "5969782550 <class 'int'>\n"
     ]
    }
   ],
   "source": [
    "stock_vol = '5,969,782,550'\n",
    "stock_vol_n = int(stock_vol.replace(',', ''))\n",
    "print(stock_vol_n, type(stock_vol_n))"
   ]
  },
  {
   "cell_type": "code",
   "execution_count": 28,
   "id": "74007c1b",
   "metadata": {},
   "outputs": [
    {
     "name": "stdout",
     "output_type": "stream",
     "text": [
      "2020/03\n"
     ]
    }
   ],
   "source": [
    "Quater = \"2020/03(E) (IFRS연결)\"\n",
    "print(Quater[:7])"
   ]
  },
  {
   "cell_type": "code",
   "execution_count": 29,
   "id": "9937761c",
   "metadata": {},
   "outputs": [
    {
     "name": "stdout",
     "output_type": "stream",
     "text": [
      "삼성전자\n"
     ]
    }
   ],
   "source": [
    "# strip() 메서드를 활용해 문자열의 공백을 제거할 수 있음\n",
    "\n",
    "data = \"   삼성전자        \"\n",
    "s_data = data.strip()\n",
    "print(s_data)"
   ]
  },
  {
   "cell_type": "code",
   "execution_count": 32,
   "id": "f539ae7c",
   "metadata": {},
   "outputs": [
    {
     "name": "stdout",
     "output_type": "stream",
     "text": [
      "BTC_KRW\n"
     ]
    }
   ],
   "source": [
    "# upper() 메서드로 문자열 대문자로 일괄 변경\n",
    "# lower() 메서드로 문자열 소문자로 일괄 변경\n",
    "\n",
    "ticker = \"btc_krw\"\n",
    "ticker_u = ticker.upper()\n",
    "print(ticker_u)"
   ]
  },
  {
   "cell_type": "code",
   "execution_count": 33,
   "id": "8c2d2f5a",
   "metadata": {},
   "outputs": [
    {
     "name": "stdout",
     "output_type": "stream",
     "text": [
      "Hello\n"
     ]
    }
   ],
   "source": [
    "# capitalize() 메서드로 문자열 첫번 째 대문자로 변경\n",
    "\n",
    "s = 'hello'\n",
    "s_c = s.capitalize()\n",
    "print(s_c)"
   ]
  },
  {
   "cell_type": "code",
   "execution_count": 44,
   "id": "57d4d643",
   "metadata": {},
   "outputs": [
    {
     "name": "stdout",
     "output_type": "stream",
     "text": [
      "True\n",
      "True\n"
     ]
    }
   ],
   "source": [
    "#endswith('string')으로 끝 문자열 확인 할 수 있음\n",
    "#startswith('string')으로 시작 문자열 확인 할 수 있음\n",
    "\n",
    "file_name = '보고서.xlsx'\n",
    "print(file_name.endswith('xlsx'))\n",
    "print(file_name.endswith(('xlsx', 'xls')))"
   ]
  },
  {
   "cell_type": "code",
   "execution_count": 45,
   "id": "d9f025ba",
   "metadata": {},
   "outputs": [
    {
     "name": "stdout",
     "output_type": "stream",
     "text": [
      "['hello', 'world']\n"
     ]
    }
   ],
   "source": [
    "# split() 으로 공백 기준 문자를 분리할 수 있음\n",
    "# List 형태로 저장되는 듯함\n",
    "\n",
    "a = \"hello world\"\n",
    "print(a.split())"
   ]
  },
  {
   "cell_type": "code",
   "execution_count": 46,
   "id": "8b6bf687",
   "metadata": {},
   "outputs": [
    {
     "data": {
      "text/plain": [
       "['2020', '05', '01']"
      ]
     },
     "execution_count": 46,
     "metadata": {},
     "output_type": "execute_result"
    }
   ],
   "source": [
    "date = \"2020-05-01\"\n",
    "date.split('-')"
   ]
  },
  {
   "cell_type": "code",
   "execution_count": 47,
   "id": "26351295",
   "metadata": {},
   "outputs": [
    {
     "data": {
      "text/plain": [
       "'039490'"
      ]
     },
     "execution_count": 47,
     "metadata": {},
     "output_type": "execute_result"
    }
   ],
   "source": [
    "# rstrip() : 오른쪽 공백 제거, lstrip() : 왼쪽 공백 제거\n",
    "\n",
    "data = '039490     '\n",
    "data.rstrip()"
   ]
  }
 ],
 "metadata": {
  "kernelspec": {
   "display_name": "Python 3 (ipykernel)",
   "language": "python",
   "name": "python3"
  },
  "language_info": {
   "codemirror_mode": {
    "name": "ipython",
    "version": 3
   },
   "file_extension": ".py",
   "mimetype": "text/x-python",
   "name": "python",
   "nbconvert_exporter": "python",
   "pygments_lexer": "ipython3",
   "version": "3.9.7"
  }
 },
 "nbformat": 4,
 "nbformat_minor": 5
}
