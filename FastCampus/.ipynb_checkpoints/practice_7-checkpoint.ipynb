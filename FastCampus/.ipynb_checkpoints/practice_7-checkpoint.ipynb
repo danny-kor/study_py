{
 "cells": [
  {
   "cell_type": "code",
   "execution_count": 1,
   "id": "847688e3",
   "metadata": {},
   "outputs": [
    {
     "name": "stdout",
     "output_type": "stream",
     "text": [
      "안녕하세요\n",
      "안녕하세요안녕하세요\n"
     ]
    }
   ],
   "source": [
    "a = input()\n",
    "print(a*2)"
   ]
  },
  {
   "cell_type": "code",
   "execution_count": 4,
   "id": "b867eb6d",
   "metadata": {},
   "outputs": [
    {
     "name": "stdout",
     "output_type": "stream",
     "text": [
      "숫자를 입력하세요 : 30\n",
      "40\n"
     ]
    }
   ],
   "source": [
    "b = input('숫자를 입력하세요 : ')\n",
    "print(int(b)+10)"
   ]
  },
  {
   "cell_type": "code",
   "execution_count": 10,
   "id": "f730b026",
   "metadata": {},
   "outputs": [
    {
     "name": "stdout",
     "output_type": "stream",
     "text": [
      "숫자를 입력하세요 : 10\n",
      "짝수\n"
     ]
    }
   ],
   "source": [
    "c = input('숫자를 입력하세요 : ')\n",
    "if int(c)%2 == 0 :\n",
    "    print('짝수')\n",
    "else :\n",
    "    print('홀수')"
   ]
  },
  {
   "cell_type": "code",
   "execution_count": 13,
   "id": "612f750d",
   "metadata": {},
   "outputs": [
    {
     "name": "stdout",
     "output_type": "stream",
     "text": [
      "숫자를 입력하세요 : 240\n",
      "255\n"
     ]
    }
   ],
   "source": [
    "d = input('숫자를 입력하세요 : ')\n",
    "result = int(d) + 20\n",
    "\n",
    "if result > 255 :\n",
    "    print(255)\n",
    "else :\n",
    "    print(result)"
   ]
  },
  {
   "cell_type": "code",
   "execution_count": 15,
   "id": "c24786f3",
   "metadata": {},
   "outputs": [
    {
     "name": "stdout",
     "output_type": "stream",
     "text": [
      "숫자를 입력하세요 : 15\n",
      "0\n"
     ]
    }
   ],
   "source": [
    "e = input('숫자를 입력하세요 : ')\n",
    "result_e = int(e) - 20\n",
    "\n",
    "if 0 <= result_e <= 255 : \n",
    "    print(result_e)\n",
    "elif result_e < 0 :\n",
    "    print(0)\n",
    "else :\n",
    "    print(255)"
   ]
  },
  {
   "cell_type": "code",
   "execution_count": 3,
   "id": "cc9cdc66",
   "metadata": {},
   "outputs": [
    {
     "name": "stdout",
     "output_type": "stream",
     "text": [
      "현재시간 :02:10\n",
      "정각이 아닙니다.\n"
     ]
    }
   ],
   "source": [
    "f = input('현재시간 :')\n",
    "\n",
    "if f[-2:] == '00' :\n",
    "    print('정각 입니다.')\n",
    "else :\n",
    "    print('정각이 아닙니다.')"
   ]
  },
  {
   "cell_type": "code",
   "execution_count": 5,
   "id": "a841a41b",
   "metadata": {},
   "outputs": [
    {
     "name": "stdout",
     "output_type": "stream",
     "text": [
      "좋아하는 과일은? 바나나\n",
      "오답입니다.\n"
     ]
    }
   ],
   "source": [
    "fruit = ['사과', '포도', '홍시']\n",
    "g = input('좋아하는 과일은? ')\n",
    "\n",
    "if g in fruit :\n",
    "    print('정답입니다.')\n",
    "else :\n",
    "    print('오답입니다.')"
   ]
  },
  {
   "cell_type": "code",
   "execution_count": 9,
   "id": "3780a5a5",
   "metadata": {},
   "outputs": [
    {
     "name": "stdout",
     "output_type": "stream",
     "text": [
      "제가 좋아하는 계절은 : 여름\n",
      "정답입니다.\n"
     ]
    }
   ],
   "source": [
    "fruit = {\"봄\" : \"딸기\", \"여름\" : \"토마토\", \"가을\" : \"사과\"}\n",
    "h = input('제가 좋아하는 계절은 : ')\n",
    "\n",
    "if h in fruit.keys() :\n",
    "    print('정답입니다.')\n",
    "else :\n",
    "    print('오답입니다.')"
   ]
  },
  {
   "cell_type": "code",
   "execution_count": 10,
   "id": "543b35b2",
   "metadata": {},
   "outputs": [
    {
     "name": "stdout",
     "output_type": "stream",
     "text": [
      "입력하세요 :a\n",
      "A\n"
     ]
    }
   ],
   "source": [
    "i = input('입력하세요 :')\n",
    "if i.islower() == True :\n",
    "    print(i.upper())\n",
    "else :\n",
    "    print(i.lower())"
   ]
  },
  {
   "cell_type": "code",
   "execution_count": 11,
   "id": "767cd2af",
   "metadata": {},
   "outputs": [
    {
     "name": "stdout",
     "output_type": "stream",
     "text": [
      "score : 45\n",
      "C\n"
     ]
    }
   ],
   "source": [
    "score = input('score : ')\n",
    "\n",
    "if int(score) >= 81 :\n",
    "    print('A')\n",
    "elif 61 <= int(score) < 81 :\n",
    "    print('B')\n",
    "elif 41 <= int(score) < 61 :\n",
    "    print('C')\n",
    "else :\n",
    "    print('D')"
   ]
  },
  {
   "cell_type": "code",
   "execution_count": 13,
   "id": "96de8fb1",
   "metadata": {},
   "outputs": [
    {
     "name": "stdout",
     "output_type": "stream",
     "text": [
      "입력 :100 달러\n",
      "116700\n"
     ]
    }
   ],
   "source": [
    "ex_rate = {'달러' : 1167, '엔' : 1.096, '유로' : 1268, '위안' : 171}\n",
    "\n",
    "m_rate = input('입력 :')\n",
    "\n",
    "if m_rate.split()[-1] == '달러' :\n",
    "    print(ex_rate['달러']*int(m_rate.split()[0]))\n",
    "else :\n",
    "    print('error')"
   ]
  },
  {
   "cell_type": "code",
   "execution_count": 14,
   "id": "58ca8572",
   "metadata": {},
   "outputs": [
    {
     "name": "stdout",
     "output_type": "stream",
     "text": [
      "입력 :2000 엔\n",
      "2192.0\n"
     ]
    }
   ],
   "source": [
    "ex_rate = {'달러' : 1167, '엔' : 1.096, '유로' : 1268, '위안' : 171}\n",
    "\n",
    "m_rate_2 = input('입력 :')\n",
    "num, currency = m_rate_2.split()\n",
    "\n",
    "print(float(num)*ex_rate[currency])"
   ]
  },
  {
   "cell_type": "code",
   "execution_count": 16,
   "id": "3dc5fa22",
   "metadata": {},
   "outputs": [
    {
     "name": "stdout",
     "output_type": "stream",
     "text": [
      "input number1 : 20\n",
      "input number2 : 50\n",
      "input number3 : 10\n",
      "50\n"
     ]
    }
   ],
   "source": [
    "a = input('input number1 : ')\n",
    "b = input('input number2 : ')\n",
    "c = input('input number3 : ')\n",
    "\n",
    "list_input = [a, b, c]\n",
    "\n",
    "print(max(list_input))"
   ]
  },
  {
   "cell_type": "code",
   "execution_count": 17,
   "id": "a057cbb6",
   "metadata": {},
   "outputs": [
    {
     "name": "stdout",
     "output_type": "stream",
     "text": [
      "Requirement already satisfied: requests in c:\\users\\kdheee\\anaconda3\\lib\\site-packages (2.26.0)\n",
      "Requirement already satisfied: certifi>=2017.4.17 in c:\\users\\kdheee\\anaconda3\\lib\\site-packages (from requests) (2021.10.8)\n",
      "Requirement already satisfied: urllib3<1.27,>=1.21.1 in c:\\users\\kdheee\\anaconda3\\lib\\site-packages (from requests) (1.26.7)\n",
      "Requirement already satisfied: idna<4,>=2.5 in c:\\users\\kdheee\\anaconda3\\lib\\site-packages (from requests) (3.2)\n",
      "Requirement already satisfied: charset-normalizer~=2.0.0 in c:\\users\\kdheee\\anaconda3\\lib\\site-packages (from requests) (2.0.4)\n"
     ]
    }
   ],
   "source": [
    "!pip install requests"
   ]
  },
  {
   "cell_type": "code",
   "execution_count": 18,
   "id": "845ecedb",
   "metadata": {},
   "outputs": [
    {
     "name": "stdout",
     "output_type": "stream",
     "text": [
      "{'opening_price': '61957000', 'closing_price': '60142000', 'min_price': '59400000', 'max_price': '62500000', 'units_traded': '1324.87368689', 'acc_trade_value': '80609771468.5043', 'prev_closing_price': '61958000', 'units_traded_24H': '1591.63676113', 'acc_trade_value_24H': '97019035993.7529', 'fluctate_24H': '-825000', 'fluctate_rate_24H': '-1.35', 'date': '1640681731662'}\n"
     ]
    }
   ],
   "source": [
    "import requests\n",
    "btc = requests.get('https://api.bithumb.com/public/ticker/').json()['data']\n",
    "\n",
    "print(btc)"
   ]
  },
  {
   "cell_type": "code",
   "execution_count": 24,
   "id": "2406b357",
   "metadata": {},
   "outputs": [
    {
     "name": "stdout",
     "output_type": "stream",
     "text": [
      "상승장\n"
     ]
    }
   ],
   "source": [
    "var = float(btc['max_price']) - float(btc['min_price'])\n",
    "\n",
    "if float(btc['opening_price']) + var > 0 :\n",
    "    print('상승장')\n",
    "else :\n",
    "    print('하락장')\n"
   ]
  },
  {
   "cell_type": "code",
   "execution_count": null,
   "id": "e1fc18ae",
   "metadata": {},
   "outputs": [],
   "source": []
  },
  {
   "cell_type": "code",
   "execution_count": null,
   "id": "e5512acf",
   "metadata": {},
   "outputs": [],
   "source": []
  }
 ],
 "metadata": {
  "kernelspec": {
   "display_name": "Python 3 (ipykernel)",
   "language": "python",
   "name": "python3"
  },
  "language_info": {
   "codemirror_mode": {
    "name": "ipython",
    "version": 3
   },
   "file_extension": ".py",
   "mimetype": "text/x-python",
   "name": "python",
   "nbconvert_exporter": "python",
   "pygments_lexer": "ipython3",
   "version": "3.9.7"
  }
 },
 "nbformat": 4,
 "nbformat_minor": 5
}
