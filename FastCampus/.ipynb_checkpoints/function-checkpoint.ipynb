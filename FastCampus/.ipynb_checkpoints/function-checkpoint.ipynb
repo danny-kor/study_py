{
 "cells": [
  {
   "cell_type": "markdown",
   "id": "f2a065a0",
   "metadata": {},
   "source": [
    "x를 입력값으로 넣으면 x+1을 출력하는 함수"
   ]
  },
  {
   "cell_type": "code",
   "execution_count": 1,
   "id": "4197e51f",
   "metadata": {},
   "outputs": [],
   "source": [
    "def function(x) :\n",
    "    print(x+1)"
   ]
  },
  {
   "cell_type": "code",
   "execution_count": 2,
   "id": "73c5baa7",
   "metadata": {},
   "outputs": [
    {
     "name": "stdout",
     "output_type": "stream",
     "text": [
      "2\n",
      "None\n"
     ]
    }
   ],
   "source": [
    "a = function(1)\n",
    "print(a)"
   ]
  },
  {
   "cell_type": "code",
   "execution_count": 3,
   "id": "2daa683d",
   "metadata": {},
   "outputs": [],
   "source": [
    "def function2(x) :\n",
    "    result = x + 1\n",
    "    return result"
   ]
  },
  {
   "cell_type": "code",
   "execution_count": 4,
   "id": "a0528345",
   "metadata": {},
   "outputs": [
    {
     "name": "stdout",
     "output_type": "stream",
     "text": [
      "2\n"
     ]
    }
   ],
   "source": [
    "a = function2(1)\n",
    "print(a)"
   ]
  },
  {
   "cell_type": "code",
   "execution_count": 5,
   "id": "4284f572",
   "metadata": {},
   "outputs": [],
   "source": [
    "def function3(x) :\n",
    "    result1 = x + 1\n",
    "    result2 = x + 2\n",
    "    return result1, result2"
   ]
  },
  {
   "cell_type": "code",
   "execution_count": 6,
   "id": "476737f7",
   "metadata": {},
   "outputs": [
    {
     "name": "stdout",
     "output_type": "stream",
     "text": [
      "2\n",
      "3\n"
     ]
    }
   ],
   "source": [
    "a, b = function3(1)\n",
    "print(a)\n",
    "print(b)"
   ]
  },
  {
   "cell_type": "markdown",
   "id": "58acb5b4",
   "metadata": {},
   "source": [
    "여러개의 입력값을 받고 싶을 때\n",
    "* 여러개의 입력값을 받아 순서대로 출력"
   ]
  },
  {
   "cell_type": "code",
   "execution_count": 7,
   "id": "cb0b92e6",
   "metadata": {},
   "outputs": [],
   "source": [
    "def function5(x):\n",
    "    for i in x :\n",
    "        print(i)"
   ]
  },
  {
   "cell_type": "code",
   "execution_count": 8,
   "id": "196f9700",
   "metadata": {},
   "outputs": [
    {
     "name": "stdout",
     "output_type": "stream",
     "text": [
      "1\n",
      "2\n",
      "3\n",
      "4\n",
      "b\n",
      "5\n"
     ]
    }
   ],
   "source": [
    "a = [1,2,3,4,'b',5]\n",
    "function5(a)"
   ]
  },
  {
   "cell_type": "markdown",
   "id": "fd13ef1c",
   "metadata": {},
   "source": [
    "* args(arguments)를 통한 구현\n",
    "* list(ex. a)를 따로 변수 정의하지 않아도 되는 방법"
   ]
  },
  {
   "cell_type": "code",
   "execution_count": 9,
   "id": "9a7248d4",
   "metadata": {},
   "outputs": [],
   "source": [
    "def function6(*args) :\n",
    "    for i in args :\n",
    "        print(i)"
   ]
  },
  {
   "cell_type": "code",
   "execution_count": 10,
   "id": "0f612561",
   "metadata": {},
   "outputs": [
    {
     "name": "stdout",
     "output_type": "stream",
     "text": [
      "1\n",
      "2\n",
      "3\n",
      "4\n",
      "b\n",
      "5\n"
     ]
    }
   ],
   "source": [
    "function6(1, 2, 3, 4, 'b', 5)"
   ]
  },
  {
   "cell_type": "code",
   "execution_count": null,
   "id": "0f4a65e3",
   "metadata": {},
   "outputs": [],
   "source": []
  }
 ],
 "metadata": {
  "kernelspec": {
   "display_name": "Python 3 (ipykernel)",
   "language": "python",
   "name": "python3"
  },
  "language_info": {
   "codemirror_mode": {
    "name": "ipython",
    "version": 3
   },
   "file_extension": ".py",
   "mimetype": "text/x-python",
   "name": "python",
   "nbconvert_exporter": "python",
   "pygments_lexer": "ipython3",
   "version": "3.9.7"
  }
 },
 "nbformat": 4,
 "nbformat_minor": 5
}
