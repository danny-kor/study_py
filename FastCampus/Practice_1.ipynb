{
 "cells": [
  {
   "cell_type": "code",
   "execution_count": 1,
   "id": "62662dce",
   "metadata": {},
   "outputs": [
    {
     "name": "stdout",
     "output_type": "stream",
     "text": [
      "Hello World\n"
     ]
    }
   ],
   "source": [
    "print(\"Hello World\")"
   ]
  },
  {
   "cell_type": "code",
   "execution_count": 2,
   "id": "b3e8c72d",
   "metadata": {},
   "outputs": [
    {
     "name": "stdout",
     "output_type": "stream",
     "text": [
      "Mary's cosmetics\n"
     ]
    }
   ],
   "source": [
    "print(\"Mary\\'s cosmetics\")"
   ]
  },
  {
   "cell_type": "code",
   "execution_count": 3,
   "id": "29d26eaf",
   "metadata": {},
   "outputs": [
    {
     "name": "stdout",
     "output_type": "stream",
     "text": [
      "신씨가 소리질렀다. \"도둑이야\"\n"
     ]
    }
   ],
   "source": [
    "print(\"신씨가 소리질렀다. \\\"도둑이야\\\"\")"
   ]
  },
  {
   "cell_type": "code",
   "execution_count": 4,
   "id": "1b1cb15b",
   "metadata": {},
   "outputs": [
    {
     "name": "stdout",
     "output_type": "stream",
     "text": [
      "\"C:\\Windows\"\n"
     ]
    }
   ],
   "source": [
    "print('\"C:\\\\Windows\"')"
   ]
  },
  {
   "cell_type": "code",
   "execution_count": 6,
   "id": "987eac65",
   "metadata": {},
   "outputs": [
    {
     "name": "stdout",
     "output_type": "stream",
     "text": [
      "안녕하세요. \n",
      "만나서 \t\t반갑습니다.\n"
     ]
    }
   ],
   "source": [
    "print(\"안녕하세요. \\n만나서 \\t\\t반갑습니다.\")\n",
    "# \\n은 줄넘김\n",
    "# \\t은 4칸 띄움"
   ]
  },
  {
   "cell_type": "code",
   "execution_count": 7,
   "id": "2caf1aa6",
   "metadata": {},
   "outputs": [
    {
     "name": "stdout",
     "output_type": "stream",
     "text": [
      "오늘은 일요일\n"
     ]
    }
   ],
   "source": [
    "print(\"오늘은\", \"일요일\")"
   ]
  },
  {
   "cell_type": "code",
   "execution_count": 9,
   "id": "9007dea8",
   "metadata": {},
   "outputs": [
    {
     "name": "stdout",
     "output_type": "stream",
     "text": [
      "naver;kakao;sk;samsung\n",
      "naver;kakao;sk;samsung\n"
     ]
    }
   ],
   "source": [
    "print('naver;kakao;sk;samsung')\n",
    "print('naver', 'kakao', 'sk', 'samsung', sep=';')"
   ]
  },
  {
   "cell_type": "code",
   "execution_count": 11,
   "id": "10b36c85",
   "metadata": {},
   "outputs": [
    {
     "name": "stdout",
     "output_type": "stream",
     "text": [
      "firstsecond\n"
     ]
    }
   ],
   "source": [
    "print('first', end='');print('second')"
   ]
  },
  {
   "cell_type": "code",
   "execution_count": 12,
   "id": "df6cb39e",
   "metadata": {},
   "outputs": [
    {
     "name": "stdout",
     "output_type": "stream",
     "text": [
      "1.6666666666666667\n"
     ]
    }
   ],
   "source": [
    "print(5/3)"
   ]
  },
  {
   "cell_type": "code",
   "execution_count": null,
   "id": "a8776534",
   "metadata": {},
   "outputs": [],
   "source": []
  }
 ],
 "metadata": {
  "kernelspec": {
   "display_name": "Python 3 (ipykernel)",
   "language": "python",
   "name": "python3"
  },
  "language_info": {
   "codemirror_mode": {
    "name": "ipython",
    "version": 3
   },
   "file_extension": ".py",
   "mimetype": "text/x-python",
   "name": "python",
   "nbconvert_exporter": "python",
   "pygments_lexer": "ipython3",
   "version": "3.9.7"
  }
 },
 "nbformat": 4,
 "nbformat_minor": 5
}
